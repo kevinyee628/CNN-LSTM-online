{
 "cells": [
  {
   "cell_type": "code",
   "execution_count": 74,
   "metadata": {},
   "outputs": [
    {
     "name": "stdout",
     "output_type": "stream",
     "text": [
      "<class 'pandas.core.frame.DataFrame'>\n",
      "DatetimeIndex: 1915 entries, 2015-01-01 to 2020-03-31\n",
      "Columns: 501 entries, item_1_store_1_sales to is_test\n",
      "dtypes: bool(1), float64(500)\n",
      "memory usage: 7.3 MB\n"
     ]
    }
   ],
   "source": [
    "import numpy as np\n",
    "import pandas as pd\n",
    "import matplotlib.pyplot as plt\n",
    "import warnings\n",
    "from scipy.stats import describe\n",
    "import seaborn as sns\n",
    "from pylab import rcParams, concatenate\n",
    "from pandas import concat\n",
    "from keras.models import load_model\n",
    "\n",
    "pd.options.display.max_columns = 12\n",
    "pd.options.display.max_rows = 24\n",
    "\n",
    "warnings.simplefilter('ignore')\n",
    "\n",
    "get_ipython().run_line_magic('matplotlib', 'inline')\n",
    "\n",
    "sns.set(style='darkgrid', palette='muted')\n",
    "color_scheme = {\n",
    "    'red': '#F1637A',\n",
    "    'green': '#6ABB3E',\n",
    "    'blue': '#3D8DEA',\n",
    "    'black': '#000000'\n",
    "}\n",
    "\n",
    "# 所有绘图使用svg格式\n",
    "# get_ipython().run_line_magic('config', \"InlineBackend.figure_format = 'svg'\")\n",
    "\n",
    "# 增加图片大小\n",
    "rcParams['figure.figsize'] = 8, 6\n",
    "\n",
    "df_train = pd.read_csv('train.csv')\n",
    "df_test = pd.read_csv('test.csv')\n",
    "\n",
    "# 处理数据，最终要让数据的格式都是500个销售列和每天一行，如果不这么做，怎么预测到每个店，每个商品的销售呢？\n",
    "\n",
    "df_train.head()\n",
    "\n",
    "df_train.index = pd.to_datetime(df_train['date'])\n",
    "df_train.drop('date', axis=1, inplace=True)\n",
    "df_test.index = pd.to_datetime(df_test['date'])\n",
    "df_test.drop('date', axis=1, inplace=True)\n",
    "\n",
    "from itertools import product, starmap\n",
    "\n",
    "\n",
    "def storeitems():\n",
    "    return product(range(1, 51), range(1, 11))\n",
    "\n",
    "\n",
    "def storeitems_column_names():\n",
    "    return list(starmap(lambda i, s: f'item_{i}_store_{s}_sales', storeitems()))\n",
    "\n",
    "\n",
    "def sales_by_storeitem(df):\n",
    "    ret = pd.DataFrame(index=df.index.unique())\n",
    "    for i, s in storeitems():\n",
    "        ret[f'item_{i}_store_{s}_sales'] = df[(df['item'] == i) & (df['store'] == s)]['sales'].values\n",
    "    return ret\n",
    "\n",
    "df_train = sales_by_storeitem(df_train)\n",
    "# 对于测试集，我们只是用0填充y值\n",
    "df_test['sales'] = np.zeros(df_test.shape[0])\n",
    "df_test = sales_by_storeitem(df_test)\n",
    "\n",
    "# 数据组合起来为模型做准备，然后将其分解为训练集和测试集。\n",
    "\n",
    "# 确保所有列名都是相同的，并且顺序相同\n",
    "col_names = list(zip(df_test.columns, df_train.columns))\n",
    "for cn in col_names:\n",
    "    assert cn[0] == cn[1]\n",
    "\n",
    "df_test['is_test'] = np.repeat(True, df_test.shape[0])\n",
    "df_train['is_test'] = np.repeat(False, df_train.shape[0])\n",
    "df_total = pd.concat([df_train, df_test])\n",
    "df_total.info()\n",
    "\n",
    "df_total.head()\n",
    "\n",
    "# ### 特征工程\n",
    "# 使用One-hot编码日，一周和一个月，以确保网络识别数据的季节性。\n",
    "\n",
    "weekday_df = pd.get_dummies(df_total.index.weekday, prefix='weekday')\n",
    "weekday_df.index = df_total.index\n",
    "\n",
    "month_df = pd.get_dummies(df_total.index.month, prefix='month')\n",
    "month_df.index = df_total.index\n",
    "\n",
    "df_total = pd.concat([weekday_df, month_df, df_total], axis=1)\n",
    "\n",
    "assert df_total.isna().any().any() == False\n",
    "\n",
    "\n",
    "# 如果是单步预测我们还希望将前一天的sales追加到每一行，然后将其用作输入数据。\n",
    "def shift_series(series, days):\n",
    "    return series.transform(lambda x: x.shift(days))\n",
    "\n",
    "\n",
    "def shift_series_in_df(df, series_names=[], days_delta=90):\n",
    "    ret = pd.DataFrame(index=df.index.copy())\n",
    "    str_sgn = 'future' if np.sign(days_delta) < 0 else 'past'\n",
    "    for sn in series_names:\n",
    "        ret[f'{sn}_{str_sgn}_{np.abs(days_delta)}'] = shift_series(df[sn], days_delta)\n",
    "    return ret\n",
    "\n",
    "\n",
    "def stack_shifted_sales(df, days_deltas=[1, 90, 360]):\n",
    "    names = storeitems_column_names()\n",
    "    dfs = [df.copy()]\n",
    "    for delta in days_deltas:\n",
    "        shifted = shift_series_in_df(df, series_names=names, days_delta=delta)\n",
    "        dfs.append(shifted)\n",
    "    return pd.concat(dfs, axis=1, sort=False, copy=False)\n",
    "\n",
    "df_total = stack_shifted_sales(df_total, days_deltas=[1])\n",
    "df_total.dropna(inplace=True)\n",
    "\n",
    "\n",
    "# 我们需要确保堆叠和非堆叠后的数据的销售列以相同的顺序排列。通过对名称(作为字符串)进行排序来实现这一点\n",
    "\n",
    "sales_cols = [col for col in df_total.columns if '_sales' in col and '_sales_' not in col]\n",
    "stacked_sales_cols = [col for col in df_total.columns if '_sales_' in col]\n",
    "other_cols = [col for col in df_total.columns if col not in set(sales_cols) and col not in set(stacked_sales_cols)]\n",
    "\n",
    "sales_cols = sorted(sales_cols)\n",
    "stacked_sales_cols = sorted(stacked_sales_cols)\n",
    "\n",
    "new_cols = other_cols + stacked_sales_cols + sales_cols\n",
    "\n",
    "df_total = df_total.reindex(columns=new_cols)\n",
    "\n",
    "df_total.head()\n",
    "\n",
    "assert df_total.isna().any().any() == False\n",
    "\n",
    "# ### 数据的归一化\n",
    "\n",
    "from sklearn.preprocessing import MinMaxScaler\n",
    "from sklearn.model_selection import train_test_split\n",
    "\n",
    "scaler = MinMaxScaler(feature_range=(0, 1))\n",
    "cols_to_scale = [col for col in df_total.columns if 'weekday' not in col and 'month' not in col]\n",
    "scaled_cols = scaler.fit_transform(df_total[cols_to_scale])\n",
    "df_total[cols_to_scale] = scaled_cols\n",
    "\n",
    "# ### 设置一下训练集和测试集，这个测试集是真正的测试集\n",
    "\n",
    "df_train = df_total[df_total['is_test'] == False].drop('is_test', axis=1)\n",
    "df_test = df_total[df_total['is_test'] == True].drop('is_test', axis=1)\n",
    "\n",
    "# ## 训练模型\n",
    "# 首先，我们需要将训练数据分离为输入向量和目标向量，并将部分训练数据分离为模型的验证数据。\n",
    "X_cols_stacked = [col for col in df_train.columns if '_past_' in col]\n",
    "X_cols_caldata = [col for col in df_train.columns if 'weekday_' in col or 'month_' in col or 'year' in col]\n",
    "X_cols = X_cols_stacked + X_cols_caldata\n",
    "\n",
    "X = df_train[X_cols]\n",
    "\n",
    "X_colset = set(X_cols)\n",
    "y_cols = [col for col in df_train.columns if col not in X_colset]\n",
    "\n",
    "y = df_train[y_cols]\n",
    "\n",
    "X_train, X_valid, y_train, y_valid = train_test_split(X, y, test_size=0.2, shuffle=False)\n",
    "\n",
    "# 使用2019年第一季度进行验证\n",
    "X_valid, y_valid = X_valid.head(90), y_valid.head(90)\n",
    "\n",
    "# 对于Keras，需要对输入值进行进一步的转换，才能够输入到模型中\n",
    "X_train_vals = X_train.values.reshape((X_train.shape[0], 1, X_train.shape[1]))\n",
    "X_valid_vals = X_valid.values.reshape((X_valid.shape[0], 1, X_valid.shape[1]))"
   ]
  },
  {
   "cell_type": "code",
   "execution_count": 2,
   "metadata": {},
   "outputs": [],
   "source": [
    "basic_model = load_model('basic_model.h5')"
   ]
  },
  {
   "cell_type": "code",
   "execution_count": 3,
   "metadata": {},
   "outputs": [
    {
     "name": "stdout",
     "output_type": "stream",
     "text": [
      "90 519\n"
     ]
    }
   ],
   "source": [
    "y_predict = basic_model.predict(X_valid_vals)\n",
    "print(X_valid_vals.shape[0], X_valid_vals.shape[2])\n",
    "X_valid_vals = X_valid_vals.reshape((X_valid_vals.shape[0], X_valid_vals.shape[2]))"
   ]
  },
  {
   "cell_type": "code",
   "execution_count": 4,
   "metadata": {},
   "outputs": [
    {
     "name": "stdout",
     "output_type": "stream",
     "text": [
      "[[0.56410256 0.48091603 0.49142857 ... 0.         0.         0.        ]\n",
      " [0.50641026 0.40458015 0.50857143 ... 0.         0.         0.        ]\n",
      " [0.3525641  0.38931298 0.25142857 ... 0.         0.         0.        ]\n",
      " ...\n",
      " [0.44871795 0.52671756 0.55428571 ... 0.         0.         0.        ]\n",
      " [0.44871795 0.52671756 0.60571429 ... 0.         0.         0.        ]\n",
      " [0.53846154 0.45801527 0.51428571 ... 0.         0.         0.        ]]\n"
     ]
    }
   ],
   "source": [
    "print(X_valid_vals)"
   ]
  },
  {
   "cell_type": "code",
   "execution_count": 6,
   "metadata": {},
   "outputs": [
    {
     "name": "stdout",
     "output_type": "stream",
     "text": [
      "[[0.56410256 0.48091603 0.49142857 0.44303797 0.43506494 0.39130435]\n",
      " [0.50641026 0.40458015 0.50857143 0.44303797 0.48701299 0.54782609]\n",
      " [0.3525641  0.38931298 0.25142857 0.36075949 0.27922078 0.25217391]\n",
      " [0.33974359 0.40458015 0.29714286 0.36075949 0.36363636 0.4       ]\n",
      " [0.42307692 0.35114504 0.37714286 0.35443038 0.36363636 0.4173913 ]\n",
      " [0.41025641 0.35114504 0.49714286 0.37974684 0.38961039 0.37391304]\n",
      " [0.40384615 0.40458015 0.41714286 0.43037975 0.42207792 0.50434783]\n",
      " [0.51282051 0.46564885 0.53142857 0.46835443 0.49350649 0.49565217]\n",
      " [0.53846154 0.48854962 0.50285714 0.39873418 0.51298701 0.42608696]\n",
      " [0.32692308 0.27480916 0.29142857 0.28481013 0.31168831 0.27826087]\n",
      " [0.37179487 0.40458015 0.49142857 0.43037975 0.33116883 0.30434783]\n",
      " [0.34615385 0.33587786 0.37714286 0.44303797 0.2987013  0.26956522]\n",
      " [0.40384615 0.39694656 0.4        0.32911392 0.40909091 0.39130435]\n",
      " [0.44871795 0.52671756 0.48       0.55696203 0.37662338 0.34782609]\n",
      " [0.3974359  0.52671756 0.53142857 0.51898734 0.42207792 0.46086957]\n",
      " [0.51923077 0.6259542  0.48571429 0.46202532 0.46103896 0.46086957]\n",
      " [0.30128205 0.29770992 0.29142857 0.34177215 0.27922078 0.26086957]\n",
      " [0.42948718 0.29007634 0.36571429 0.42405063 0.37662338 0.39130435]\n",
      " [0.34615385 0.42748092 0.41142857 0.43670886 0.33116883 0.30434783]\n",
      " [0.42948718 0.48091603 0.34857143 0.51898734 0.37012987 0.32173913]\n",
      " [0.37179487 0.4351145  0.46285714 0.46835443 0.32467532 0.43478261]\n",
      " [0.5        0.46564885 0.46285714 0.44303797 0.49350649 0.36521739]\n",
      " [0.44230769 0.55725191 0.50285714 0.40506329 0.48051948 0.45217391]\n",
      " [0.38461538 0.2519084  0.32571429 0.38607595 0.2987013  0.28695652]\n",
      " [0.36538462 0.27480916 0.44571429 0.37341772 0.25974026 0.33913043]\n",
      " [0.35897436 0.38167939 0.37714286 0.35443038 0.35064935 0.35652174]\n",
      " [0.38461538 0.45801527 0.42285714 0.40506329 0.44805195 0.37391304]\n",
      " [0.41666667 0.38931298 0.46285714 0.52531646 0.35714286 0.40869565]\n",
      " [0.40384615 0.36641221 0.42857143 0.38607595 0.43506494 0.42608696]\n",
      " [0.3974359  0.4351145  0.44       0.48734177 0.48051948 0.45217391]\n",
      " [0.26282051 0.32824427 0.34857143 0.32278481 0.2987013  0.32173913]\n",
      " [0.34615385 0.35877863 0.4        0.41772152 0.38311688 0.36521739]\n",
      " [0.43589744 0.38931298 0.33142857 0.42405063 0.37662338 0.43478261]\n",
      " [0.3525641  0.41984733 0.44       0.43037975 0.40909091 0.3826087 ]\n",
      " [0.53846154 0.40458015 0.54857143 0.44936709 0.31818182 0.40869565]\n",
      " [0.52564103 0.38931298 0.49142857 0.56329114 0.5974026  0.4173913 ]\n",
      " [0.44871795 0.49618321 0.56571429 0.61392405 0.49350649 0.45217391]\n",
      " [0.42307692 0.34351145 0.45142857 0.35443038 0.41558442 0.36521739]\n",
      " [0.46153846 0.45038168 0.38285714 0.40506329 0.4025974  0.34782609]\n",
      " [0.33974359 0.3740458  0.39428571 0.43670886 0.37662338 0.37391304]\n",
      " [0.41025641 0.41221374 0.42857143 0.53797468 0.4025974  0.4173913 ]\n",
      " [0.37179487 0.39694656 0.42857143 0.5        0.54545455 0.53043478]\n",
      " [0.51923077 0.51908397 0.49714286 0.48101266 0.57142857 0.50434783]\n",
      " [0.48076923 0.41221374 0.52571429 0.48734177 0.46753247 0.46086957]\n",
      " [0.33974359 0.30534351 0.37714286 0.32911392 0.27922078 0.33913043]\n",
      " [0.52564103 0.41984733 0.38285714 0.39240506 0.3961039  0.51304348]\n",
      " [0.39102564 0.46564885 0.46285714 0.52531646 0.46103896 0.34782609]\n",
      " [0.42948718 0.45038168 0.50285714 0.51898734 0.4025974  0.40869565]\n",
      " [0.44230769 0.46564885 0.44       0.43670886 0.46103896 0.40869565]\n",
      " [0.52564103 0.53435115 0.55428571 0.41139241 0.45454545 0.51304348]\n",
      " [0.55128205 0.53435115 0.51428571 0.58227848 0.52597403 0.51304348]\n",
      " [0.33974359 0.32061069 0.37142857 0.34810127 0.31168831 0.31304348]\n",
      " [0.37179487 0.3740458  0.37142857 0.37341772 0.43506494 0.40869565]\n",
      " [0.32051282 0.3129771  0.38857143 0.42405063 0.37012987 0.39130435]\n",
      " [0.49358974 0.53435115 0.4        0.42405063 0.51298701 0.33043478]\n",
      " [0.49358974 0.52671756 0.44571429 0.44303797 0.35064935 0.48695652]\n",
      " [0.55769231 0.48091603 0.61142857 0.43037975 0.3961039  0.50434783]\n",
      " [0.55128205 0.45801527 0.56       0.63924051 0.5        0.54782609]\n",
      " [0.34615385 0.23664122 0.31428571 0.34810127 0.31818182 0.31304348]\n",
      " [0.42948718 0.41221374 0.45714286 0.39240506 0.34415584 0.27826087]\n",
      " [0.63461538 0.48091603 0.54285714 0.41139241 0.57792208 0.47826087]\n",
      " [0.52564103 0.45038168 0.56       0.46835443 0.46753247 0.50434783]\n",
      " [0.67948718 0.41984733 0.52571429 0.71518987 0.53246753 0.51304348]\n",
      " [0.53205128 0.48854962 0.57714286 0.61392405 0.59090909 0.42608696]\n",
      " [0.58333333 0.6259542  0.63428571 0.64556962 0.68181818 0.66956522]\n",
      " [0.46153846 0.52671756 0.4        0.43670886 0.40909091 0.40869565]\n",
      " [0.61538462 0.46564885 0.46285714 0.43670886 0.50649351 0.50434783]\n",
      " [0.48076923 0.41221374 0.50857143 0.52531646 0.46753247 0.40869565]\n",
      " [0.55128205 0.41221374 0.53142857 0.47468354 0.53896104 0.48695652]\n",
      " [0.54487179 0.53435115 0.48571429 0.55063291 0.54545455 0.53043478]\n",
      " [0.60897436 0.60305344 0.57142857 0.53164557 0.43506494 0.66956522]\n",
      " [0.50641026 0.58778626 0.63428571 0.50632911 0.57142857 0.54782609]\n",
      " [0.54487179 0.47328244 0.48       0.5        0.49350649 0.47826087]\n",
      " [0.62179487 0.46564885 0.53142857 0.47468354 0.45454545 0.4       ]\n",
      " [0.46153846 0.53435115 0.53142857 0.43037975 0.48701299 0.40869565]\n",
      " [0.51923077 0.53435115 0.46285714 0.59493671 0.5        0.4       ]\n",
      " [0.61538462 0.5648855  0.55428571 0.55063291 0.57792208 0.53913043]\n",
      " [0.53846154 0.60305344 0.70285714 0.60126582 0.53246753 0.56521739]\n",
      " [0.57051282 0.57251908 0.56571429 0.62658228 0.53246753 0.5826087 ]\n",
      " [0.33974359 0.34351145 0.43428571 0.43670886 0.48701299 0.35652174]\n",
      " [0.57051282 0.44274809 0.48       0.55063291 0.44805195 0.3826087 ]\n",
      " [0.57692308 0.41984733 0.40571429 0.51898734 0.52597403 0.52173913]\n",
      " [0.45512821 0.48854962 0.58285714 0.50632911 0.57142857 0.52173913]\n",
      " [0.60897436 0.64885496 0.53714286 0.64556962 0.61038961 0.55652174]\n",
      " [0.58333333 0.54961832 0.61142857 0.7278481  0.68831169 0.53043478]\n",
      " [0.67948718 0.67938931 0.57714286 0.65822785 0.62987013 0.52173913]\n",
      " [0.42948718 0.45801527 0.37714286 0.42405063 0.33116883 0.4173913 ]\n",
      " [0.44871795 0.52671756 0.55428571 0.56329114 0.42207792 0.51304348]\n",
      " [0.44871795 0.52671756 0.60571429 0.50632911 0.44155844 0.53043478]\n",
      " [0.53846154 0.45801527 0.51428571 0.4556962  0.48051948 0.49565217]]\n"
     ]
    }
   ],
   "source": [
    "print(X_valid_vals[:, :6])"
   ]
  },
  {
   "cell_type": "code",
   "execution_count": 22,
   "metadata": {},
   "outputs": [],
   "source": [
    "inv_y_test = concatenate((X_valid_vals[:,:-18], y_predict), axis=1)"
   ]
  },
  {
   "cell_type": "code",
   "execution_count": 20,
   "metadata": {},
   "outputs": [
    {
     "name": "stdout",
     "output_type": "stream",
     "text": [
      "[[0.56410256 0.48091603 0.49142857 ... 0.47543949 0.46941647 0.50398088]\n",
      " [0.50641026 0.40458015 0.50857143 ... 0.40443715 0.40328777 0.4313767 ]\n",
      " [0.3525641  0.38931298 0.25142857 ... 0.32905033 0.33587399 0.35916874]\n",
      " ...\n",
      " [0.44871795 0.52671756 0.55428571 ... 0.44331443 0.44181055 0.46548244]\n",
      " [0.44871795 0.52671756 0.60571429 ... 0.44903526 0.4413285  0.4723264 ]\n",
      " [0.53846154 0.45801527 0.51428571 ... 0.49182582 0.49109378 0.51863217]]\n"
     ]
    }
   ],
   "source": [
    "print(inv_y_test)"
   ]
  },
  {
   "cell_type": "code",
   "execution_count": 23,
   "metadata": {},
   "outputs": [],
   "source": [
    "inv_y_test = scaler.inverse_transform(inv_y_test)"
   ]
  },
  {
   "cell_type": "code",
   "execution_count": 66,
   "metadata": {},
   "outputs": [
    {
     "name": "stdout",
     "output_type": "stream",
     "text": [
      "[[ 0.56410256 75.02290076 64.37714286 ... 37.08428013 62.90180689\n",
      "  55.43789625]\n",
      " [ 0.50641026 63.11450382 66.62285714 ... 31.54609805 54.04056096\n",
      "  47.45143652]\n",
      " [ 0.3525641  60.73282443 32.93714286 ... 25.66592592 45.00711483\n",
      "  39.50856119]\n",
      " ...\n",
      " [ 0.44871795 82.16793893 72.61142857 ... 34.57852578 59.20261347\n",
      "  51.20306879]\n",
      " [ 0.44871795 82.16793893 79.34857143 ... 35.02475005 59.13801843\n",
      "  51.95590377]\n",
      " [ 0.53846154 71.45038168 67.37142857 ... 38.36241388 65.80656713\n",
      "  57.04953909]]\n"
     ]
    }
   ],
   "source": [
    "print(inv_y_test)"
   ]
  },
  {
   "cell_type": "code",
   "execution_count": 68,
   "metadata": {},
   "outputs": [
    {
     "name": "stdout",
     "output_type": "stream",
     "text": [
      "90\n"
     ]
    }
   ],
   "source": [
    "inv_y_predict = inv_y_test[:, -1]\n",
    "print(len(inv_y_predict))"
   ]
  },
  {
   "cell_type": "code",
   "execution_count": 34,
   "metadata": {},
   "outputs": [
    {
     "data": {
      "image/png": "[encoded data removed]",
      "text/plain": [
       "<Figure size 432x288 with 1 Axes>"
      ]
     },
     "metadata": {
      "needs_background": "light"
     },
     "output_type": "display_data"
    }
   ],
   "source": [
    "# plt.plot(inv_y,color='red',label='Original')\n",
    "plt.plot(inv_y_predict,color='green',label='Predict')\n",
    "plt.legend()\n",
    "plt.show()"
   ]
  },
  {
   "cell_type": "code",
   "execution_count": 65,
   "metadata": {},
   "outputs": [
    {
     "name": "stdout",
     "output_type": "stream",
     "text": [
      "[[75.02290076 64.37714286 77.53164557 ... 37.08428013 62.90180689\n",
      "  55.43789625]\n",
      " [63.11450382 66.62285714 77.53164557 ... 31.54609805 54.04056096\n",
      "  47.45143652]\n",
      " [60.73282443 32.93714286 63.13291139 ... 25.66592592 45.00711483\n",
      "  39.50856119]\n",
      " ...\n",
      " [82.16793893 72.61142857 98.57594937 ... 34.57852578 59.20261347\n",
      "  51.20306879]\n",
      " [82.16793893 79.34857143 88.60759494 ... 35.02475005 59.13801843\n",
      "  51.95590377]\n",
      " [71.45038168 67.37142857 79.74683544 ... 38.36241388 65.80656713\n",
      "  57.04953909]]\n"
     ]
    }
   ],
   "source": [
    "print(inv_y_test[:, 1:])"
   ]
  },
  {
   "cell_type": "code",
   "execution_count": 62,
   "metadata": {},
   "outputs": [
    {
     "name": "stdout",
     "output_type": "stream",
     "text": [
      "90\n"
     ]
    }
   ],
   "source": [
    "print(len(y_valid))"
   ]
  },
  {
   "cell_type": "code",
   "execution_count": 63,
   "metadata": {},
   "outputs": [
    {
     "name": "stdout",
     "output_type": "stream",
     "text": [
      "[[0.50641026 0.40458015 0.50857143 ... 0.28205128 0.34328358 0.40909091]\n",
      " [0.3525641  0.38931298 0.25142857 ... 0.29487179 0.31343284 0.28181818]\n",
      " [0.33974359 0.40458015 0.29714286 ... 0.32051282 0.29104478 0.39090909]\n",
      " ...\n",
      " [0.44871795 0.52671756 0.60571429 ... 0.46153846 0.52238806 0.47272727]\n",
      " [0.53846154 0.45801527 0.51428571 ... 0.41025641 0.50746269 0.5       ]\n",
      " [0.46794872 0.53435115 0.6        ... 0.5        0.45522388 0.61818182]]\n"
     ]
    }
   ],
   "source": [
    "print(y_valid.values)"
   ]
  },
  {
   "cell_type": "code",
   "execution_count": 42,
   "metadata": {},
   "outputs": [],
   "source": [
    "inv_y_train = concatenate((X_valid_vals[:,:-18], y_valid.values), axis=1)"
   ]
  },
  {
   "cell_type": "code",
   "execution_count": 43,
   "metadata": {},
   "outputs": [],
   "source": [
    "inv_y_train = scaler.inverse_transform(inv_y_train)"
   ]
  },
  {
   "cell_type": "code",
   "execution_count": 44,
   "metadata": {},
   "outputs": [
    {
     "name": "stdout",
     "output_type": "stream",
     "text": [
      "[[ 0.56410256 75.02290076 64.37714286 ... 22.         46.\n",
      "  45.        ]\n",
      " [ 0.50641026 63.11450382 66.62285714 ... 23.         42.\n",
      "  31.        ]\n",
      " [ 0.3525641  60.73282443 32.93714286 ... 25.         39.\n",
      "  43.        ]\n",
      " ...\n",
      " [ 0.44871795 82.16793893 72.61142857 ... 36.         70.\n",
      "  52.        ]\n",
      " [ 0.44871795 82.16793893 79.34857143 ... 32.         68.\n",
      "  55.        ]\n",
      " [ 0.53846154 71.45038168 67.37142857 ... 39.         61.\n",
      "  68.        ]]\n"
     ]
    }
   ],
   "source": [
    "print(inv_y_train)"
   ]
  },
  {
   "cell_type": "code",
   "execution_count": 57,
   "metadata": {},
   "outputs": [],
   "source": [
    "inv_y = inv_y_train[:, -1]"
   ]
  },
  {
   "cell_type": "code",
   "execution_count": 98,
   "metadata": {
    "pycharm": {
     "is_executing": false
    }
   },
   "outputs": [
    {
     "name": "stderr",
     "output_type": "stream",
     "text": [
      "findfont: Font family ['sans-serif'] not found. Falling back to DejaVu Sans.\n",
      "findfont: Font family ['sans-serif'] not found. Falling back to DejaVu Sans.\n"
     ]
    },
    {
     "data": {
      "image/png": "[encoded data removed]",
      "text/plain": [
       "<Figure size 432x288 with 1 Axes>"
      ]
     },
     "metadata": {
      "needs_background": "light"
     },
     "output_type": "display_data"
    }
   ],
   "source": [
    "plt.rcParams['font.sans-serif']=['SimHei']\n",
    "plt.rcParams['axes.unicode_minus'] = False\n",
    "plt.plot(inv_y, marker='o', color='black',label='Original')\n",
    "plt.plot(inv_y_predict, linestyle='--', marker='*', color='black',label='LSTM-Predicted')\n",
    "plt.xlabel('日期')\n",
    "plt.ylabel('销售量')\n",
    "plt.title('2019.1—2019.3 50号商品的销售额预测对比')\n",
    "plt.legend()\n",
    "plt.savefig(\"test.png\", dpi=750, bbox_inches = \"tight\")\n",
    "plt.show()"
   ]
  },
  {
   "cell_type": "code",
   "execution_count": 58,
   "metadata": {},
   "outputs": [
    {
     "name": "stdout",
     "output_type": "stream",
     "text": [
      "[45. 31. 43. 41. 39. 35. 42. 47. 45. 43. 32. 34. 45. 55. 42. 32. 47. 44.\n",
      " 45. 49. 41. 49. 26. 32. 31. 46. 39. 53. 55. 39. 31. 38. 44. 40. 59. 47.\n",
      " 37. 43. 46. 41. 48. 67. 59. 40. 34. 43. 44. 57. 53. 49. 36. 37. 44. 51.\n",
      " 44. 52. 60. 33. 42. 56. 60. 49. 54. 65. 55. 50. 51. 67. 58. 63. 76. 40.\n",
      " 59. 50. 57. 68. 59. 60. 41. 38. 55. 64. 52. 57. 60. 49. 52. 52. 55. 68.]\n"
     ]
    }
   ],
   "source": [
    "print(inv_y)"
   ]
  },
  {
   "cell_type": "code",
   "execution_count": 67,
   "metadata": {},
   "outputs": [
    {
     "name": "stdout",
     "output_type": "stream",
     "text": [
      "90\n"
     ]
    }
   ],
   "source": [
    "print(len(inv_y))"
   ]
  },
  {
   "cell_type": "code",
   "execution_count": 69,
   "metadata": {},
   "outputs": [
    {
     "data": {
      "text/plain": [
       "<Figure size 432x288 with 0 Axes>"
      ]
     },
     "metadata": {},
     "output_type": "display_data"
    }
   ],
   "source": []
  },
  {
   "cell_type": "code",
   "execution_count": null,
   "metadata": {},
   "outputs": [],
   "source": []
  }
 ],
 "metadata": {
  "kernelspec": {
   "display_name": "Python 3",
   "language": "python",
   "name": "python3"
  },
  "language_info": {
   "codemirror_mode": {
    "name": "ipython",
    "version": 3
   },
   "file_extension": ".py",
   "mimetype": "text/x-python",
   "name": "python",
   "nbconvert_exporter": "python",
   "pygments_lexer": "ipython3",
   "version": "3.7.4"
  },
  "pycharm": {
   "stem_cell": {
    "cell_type": "raw",
    "metadata": {
     "collapsed": false
    },
    "source": []
   }
  }
 },
 "nbformat": 4,
 "nbformat_minor": 2
}
